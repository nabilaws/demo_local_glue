{
 "cells": [
  {
   "cell_type": "code",
   "execution_count": null,
   "metadata": {},
   "source": [
    "import sys\n",
    "print(f\"Python version: {sys.version}\")\n\n",
    "try:\n",
    "    from pyspark.context import SparkContext\n",
    "    from awsglue.context import GlueContext\n",
    "    from awsglue.job import Job\n",
    "    \n",
    "    # Initialize Glue context\n",
    "    sc = SparkContext()\n",
    "    glueContext = GlueContext(sc)\n",
    "    spark = glueContext.spark_session\n",
    "    job = Job(glueContext)\n",
    "    \n",
    "    print(\"✨ Glue environment initialized successfully!\")\n",
    "except Exception as e:\n",
    "    print(f\"Error initializing Glue environment: {e}\")"
   ]
  }
 ],
 "metadata": {
  "kernelspec": {
   "display_name": "Python 3",
   "language": "python",
   "name": "python3"
  }
 },
 "nbformat": 4,
 "nbformat_minor": 4
}